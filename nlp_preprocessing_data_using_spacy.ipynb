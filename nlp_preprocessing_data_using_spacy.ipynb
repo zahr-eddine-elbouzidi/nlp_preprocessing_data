{
  "nbformat": 4,
  "nbformat_minor": 0,
  "metadata": {
    "colab": {
      "name": "nlp_preprocessing_data_using_spacy.ipynb",
      "provenance": [],
      "collapsed_sections": [],
      "authorship_tag": "ABX9TyP7w1ONCYziXPB/QjXiW6Kj",
      "include_colab_link": true
    },
    "kernelspec": {
      "name": "python3",
      "display_name": "Python 3"
    },
    "language_info": {
      "name": "python"
    }
  },
  "cells": [
    {
      "cell_type": "markdown",
      "metadata": {
        "id": "view-in-github",
        "colab_type": "text"
      },
      "source": [
        "<a href=\"https://colab.research.google.com/github/zahr-eddine/nlp_preprocessing_data/blob/main/nlp_preprocessing_data_using_spacy.ipynb\" target=\"_parent\"><img src=\"https://colab.research.google.com/assets/colab-badge.svg\" alt=\"Open In Colab\"/></a>"
      ]
    },
    {
      "cell_type": "markdown",
      "metadata": {
        "id": "sqHbrtRknaod"
      },
      "source": [
        "## **Preprocessing data using Spacy package** ##"
      ]
    },
    {
      "cell_type": "markdown",
      "metadata": {
        "id": "M2iz4fOjq_D0"
      },
      "source": [
        "**Dataset**"
      ]
    },
    {
      "cell_type": "code",
      "metadata": {
        "id": "zQzmq5VOnkZ8"
      },
      "source": [
        "dataset = [        \n",
        "\"\"\"Perhaps one of the most significant advances made by Arabic mathematics began at this time with the work of al-Khwarizmi, namely\n",
        "the beginnings of algebra. It is important to understand just how significant this new idea was. It was a revolutionary move away from\n",
        "the Greek concept of mathematics which was essentially geometry. Algebra was a unifying theory which allowed rational\n",
        "numbers, irrational numbers, geometrical magnitudes, etc., to all be treated as \"algebraic objects\". It gave mathematics a whole new\n",
        "development path so much broader in concept to that which had existed before, and provided a vehicle for future development of the\n",
        "subject. Another important aspect of the introduction of algebraic ideas was that it allowed mathematics to be applied to itself in a\n",
        "way which had not happened before.\"\"\",\n",
        "\n",
        " \"\"\"ربما كانت أحد أهم التطورات التي قامت بها الرياضيات العربية التي بدأت في هذا الوقت بعمل الخوارزمي  وهي بدايات الجبر،ومن المهم فهم كيف كانت هذه الفكرة الجديدة مهمة، فقد كانت خطوة ثورية بعيدا عن\n",
        "المفهوم اليوناني للرياضيات التي هي في جوهرها  هندسة، الجبركان نظرية موحدة تتحيح الأعداد الكسرية و الأعداد اللا كسرية ، والمقادير الهندسية و غيرها ، أن تتعامل على أنها أجسام جبرية، و أعطت الرياضيات ككل مسارا جديدًا للتطوربمفهوم \n",
        " أوسع بكثير من الذي كان موجودًا من قبل ، وقدم وسيلة للتنمية في هذا الموضوع مستقبلا .و جانب آخر مهم لإدخال أفكار الجبر و هو أنه سمح بتطبيق الرياضيات على نفسها \n",
        "بطريقة  لم تحدث من قبل.\"\"\"\n",
        "]\n"
      ],
      "execution_count": null,
      "outputs": []
    },
    {
      "cell_type": "markdown",
      "metadata": {
        "id": "8HVl-lpyrBga"
      },
      "source": [
        "**Import Packages**"
      ]
    },
    {
      "cell_type": "code",
      "metadata": {
        "id": "Unvm-LumnrZx"
      },
      "source": [
        "from spacy.lang.en import English"
      ],
      "execution_count": null,
      "outputs": []
    },
    {
      "cell_type": "markdown",
      "metadata": {
        "id": "i2C6jEIzonxq"
      },
      "source": [
        "## **Begin Preprocessing** ##"
      ]
    },
    {
      "cell_type": "markdown",
      "metadata": {
        "id": "P1Sb9ntppgXr"
      },
      "source": [
        "**Convert text to lowercase**"
      ]
    },
    {
      "cell_type": "code",
      "metadata": {
        "id": "rO8y1wLdpkFT"
      },
      "source": [
        "## Convert to lowercase\n",
        "text_english = dataset[0].lower()"
      ],
      "execution_count": null,
      "outputs": []
    },
    {
      "cell_type": "markdown",
      "metadata": {
        "id": "aGpZp-KDzkwd"
      },
      "source": [
        "**Remove punctuations**"
      ]
    },
    {
      "cell_type": "markdown",
      "metadata": {
        "id": "C1qB_UnnpnPZ"
      },
      "source": [
        "**Tokenization**"
      ]
    },
    {
      "cell_type": "code",
      "metadata": {
        "id": "zxhvyxO9zUBL"
      },
      "source": [
        "en = English()\n",
        "tokenizer_data = en.Defaults.create_tokenizer(en)\n",
        "\n",
        "def tokenize_text(text):\n",
        "  data_array = [item for item in tokenizer_data(text)]\n",
        "  return data_array"
      ],
      "execution_count": null,
      "outputs": []
    },
    {
      "cell_type": "code",
      "metadata": {
        "colab": {
          "base_uri": "https://localhost:8080/"
        },
        "id": "Koo6-dysznbq",
        "outputId": "88effe58-8254-4d83-a218-05598b40b0ed"
      },
      "source": [
        "import string\n",
        "punctuations = '''`÷×؛<>_()*&^%][ـ،/:\"؟.,'{}~¦+|!”…“–ـ''' + string.punctuation  #all punctuations \n",
        "print(punctuations)\n",
        "\n",
        "def remove_punctuations(text):\n",
        "  my_clean_text = ''.join([item for item in text if item not in punctuations])\n",
        "  return my_clean_text"
      ],
      "execution_count": null,
      "outputs": [
        {
          "output_type": "stream",
          "text": [
            "`÷×؛<>_()*&^%][ـ،/:\"؟.,'{}~¦+|!”…“–ـ!\"#$%&'()*+,-./:;<=>?@[\\]^_`{|}~\n"
          ],
          "name": "stdout"
        }
      ]
    },
    {
      "cell_type": "markdown",
      "metadata": {
        "id": "AMgopOGOz3Fq"
      },
      "source": [
        "**Remove the stopwords**"
      ]
    },
    {
      "cell_type": "code",
      "metadata": {
        "id": "Gfq5HOvGz8hd"
      },
      "source": [
        "##import library for stopwords\n",
        "import spacy\n",
        "stopwords = spacy.lang.en.stop_words.STOP_WORDS\n",
        "\n",
        "def remove_stopwords(array):\n",
        "  my_clean_text = ' '.join([str(item) for item in array if item not in stopwords and item.is_stop is False])\n",
        "  return my_clean_text"
      ],
      "execution_count": null,
      "outputs": []
    },
    {
      "cell_type": "markdown",
      "metadata": {
        "id": "uHwqaKlj1tq1"
      },
      "source": [
        "**Lemmatization**"
      ]
    },
    {
      "cell_type": "code",
      "metadata": {
        "colab": {
          "base_uri": "https://localhost:8080/"
        },
        "id": "TKzDdN8B2KvD",
        "outputId": "48b34c48-0785-43cd-cb11-6717031795dc"
      },
      "source": [
        "my_extract_var = spacy.load('en')\n",
        "d = my_extract_var(text_english)\n",
        "for item in d:\n",
        "  print(item.lemma_ , item.pos_ , item.text)\n",
        "  \n",
        " "
      ],
      "execution_count": null,
      "outputs": [
        {
          "output_type": "stream",
          "text": [
            "perhaps ADV perhaps\n",
            "one NUM one\n",
            "of ADP of\n",
            "the DET the\n",
            "most ADV most\n",
            "significant ADJ significant\n",
            "advance NOUN advances\n",
            "make VERB made\n",
            "by ADP by\n",
            "arabic ADJ arabic\n",
            "mathematic NOUN mathematics\n",
            "begin VERB began\n",
            "at ADP at\n",
            "this DET this\n",
            "time NOUN time\n",
            "with ADP with\n",
            "the DET the\n",
            "work NOUN work\n",
            "of ADP of\n",
            "al PROPN al\n",
            "- PUNCT -\n",
            "khwarizmi PROPN khwarizmi\n",
            ", PUNCT ,\n",
            "namely ADV namely\n",
            "\n",
            " SPACE \n",
            "\n",
            "the DET the\n",
            "beginning NOUN beginnings\n",
            "of ADP of\n",
            "algebra NOUN algebra\n",
            ". PUNCT .\n",
            "-PRON- PRON it\n",
            "be AUX is\n",
            "important ADJ important\n",
            "to PART to\n",
            "understand VERB understand\n",
            "just ADV just\n",
            "how ADV how\n",
            "significant ADJ significant\n",
            "this DET this\n",
            "new ADJ new\n",
            "idea NOUN idea\n",
            "be AUX was\n",
            ". PUNCT .\n",
            "-PRON- PRON it\n",
            "be AUX was\n",
            "a DET a\n",
            "revolutionary ADJ revolutionary\n",
            "move NOUN move\n",
            "away ADV away\n",
            "from ADP from\n",
            "\n",
            " SPACE \n",
            "\n",
            "the DET the\n",
            "greek ADJ greek\n",
            "concept NOUN concept\n",
            "of ADP of\n",
            "mathematic NOUN mathematics\n",
            "which DET which\n",
            "be AUX was\n",
            "essentially ADV essentially\n",
            "geometry NOUN geometry\n",
            ". PUNCT .\n",
            "algebra PROPN algebra\n",
            "be AUX was\n",
            "a DET a\n",
            "unifying ADJ unifying\n",
            "theory NOUN theory\n",
            "which DET which\n",
            "allow VERB allowed\n",
            "rational ADJ rational\n",
            "\n",
            " SPACE \n",
            "\n",
            "number NOUN numbers\n",
            ", PUNCT ,\n",
            "irrational ADJ irrational\n",
            "number NOUN numbers\n",
            ", PUNCT ,\n",
            "geometrical ADJ geometrical\n",
            "magnitude NOUN magnitudes\n",
            ", PUNCT ,\n",
            "etc X etc\n",
            ". X .\n",
            ", PUNCT ,\n",
            "to ADP to\n",
            "all DET all\n",
            "be AUX be\n",
            "treat VERB treated\n",
            "as SCONJ as\n",
            "\" PUNCT \"\n",
            "algebraic ADJ algebraic\n",
            "object NOUN objects\n",
            "\" PUNCT \"\n",
            ". PUNCT .\n",
            "-PRON- PRON it\n",
            "give VERB gave\n",
            "mathematic NOUN mathematics\n",
            "a DET a\n",
            "whole ADJ whole\n",
            "new ADJ new\n",
            "\n",
            " SPACE \n",
            "\n",
            "development NOUN development\n",
            "path NOUN path\n",
            "so ADV so\n",
            "much ADV much\n",
            "broad ADJ broader\n",
            "in ADP in\n",
            "concept NOUN concept\n",
            "to ADP to\n",
            "that DET that\n",
            "which DET which\n",
            "have AUX had\n",
            "exist VERB existed\n",
            "before ADV before\n",
            ", PUNCT ,\n",
            "and CCONJ and\n",
            "provide VERB provided\n",
            "a DET a\n",
            "vehicle NOUN vehicle\n",
            "for ADP for\n",
            "future ADJ future\n",
            "development NOUN development\n",
            "of ADP of\n",
            "the DET the\n",
            "\n",
            " SPACE \n",
            "\n",
            "subject NOUN subject\n",
            ". PUNCT .\n",
            "another DET another\n",
            "important ADJ important\n",
            "aspect NOUN aspect\n",
            "of ADP of\n",
            "the DET the\n",
            "introduction NOUN introduction\n",
            "of ADP of\n",
            "algebraic ADJ algebraic\n",
            "idea NOUN ideas\n",
            "be AUX was\n",
            "that SCONJ that\n",
            "-PRON- PRON it\n",
            "allow VERB allowed\n",
            "mathematic NOUN mathematics\n",
            "to PART to\n",
            "be AUX be\n",
            "apply VERB applied\n",
            "to ADP to\n",
            "-PRON- PRON itself\n",
            "in ADP in\n",
            "a DET a\n",
            "\n",
            " SPACE \n",
            "\n",
            "way NOUN way\n",
            "which DET which\n",
            "have AUX had\n",
            "not PART not\n",
            "happen VERB happened\n",
            "before ADV before\n",
            ". PUNCT .\n"
          ],
          "name": "stdout"
        }
      ]
    },
    {
      "cell_type": "markdown",
      "metadata": {
        "id": "MrM6V4CV1YT7"
      },
      "source": [
        "**Preprocessing function**"
      ]
    },
    {
      "cell_type": "code",
      "metadata": {
        "id": "1_jqQ-pQoszD"
      },
      "source": [
        "## using tokenizer to preprocess data\n",
        "def preprocessing_data(string_data):\n",
        "\n",
        "  ## call remove_punctuations function\n",
        "  array_without_punctuations = remove_punctuations(string_data) \n",
        "\n",
        "  ## call tokenize_text function\n",
        "  data_array = tokenize_text(array_without_punctuations)\n",
        "\n",
        "  ## call remove_stopwords function\n",
        "  text_after = remove_stopwords(data_array)\n",
        "  \n",
        "  return text_after\n"
      ],
      "execution_count": null,
      "outputs": []
    },
    {
      "cell_type": "code",
      "metadata": {
        "colab": {
          "base_uri": "https://localhost:8080/"
        },
        "id": "9BjK5BqGpUht",
        "outputId": "cc7fd428-ba53-4a77-c644-536c1a6be292"
      },
      "source": [
        " \n",
        "print(preprocessing_data(dataset[1]))\n",
        "#print(len(preprocessing_data(text_english)))"
      ],
      "execution_count": null,
      "outputs": [
        {
          "output_type": "stream",
          "text": [
            "ربما كانت أحد أهم التطورات التي قامت بها الرياضيات العربية التي بدأت في هذا الوقت بعمل الخوارزمي   وهي بدايات الجبرومن المهم فهم كيف كانت هذه الفكرة الجديدة مهمة فقد كانت خطوة ثورية بعيدا عن \n",
            " المفهوم اليوناني للرياضيات التي هي في جوهرها   هندسة الجبركان نظرية موحدة تتحيح الأعداد الكسرية و الأعداد اللا كسرية   والمقادير الهندسية و غيرها   أن تتعامل على أنها أجسام جبرية و أعطت الرياضيات ككل مسارا جديدًا للتطوربمفهوم \n",
            "  أوسع بكثير من الذي كان موجودًا من قبل   وقدم وسيلة للتنمية في هذا الموضوع مستقبلا و جانب آخر مهم لإدخال أفكار الجبر و هو أنه سمح بتطبيق الرياضيات على نفسها \n",
            " بطريقة   لم تحدث من قبل\n"
          ],
          "name": "stdout"
        }
      ]
    },
    {
      "cell_type": "markdown",
      "metadata": {
        "id": "7lT1e67996W0"
      },
      "source": [
        "**Tokenization Arabic using Spacy**"
      ]
    },
    {
      "cell_type": "code",
      "metadata": {
        "id": "_xIh0aDE-A5C"
      },
      "source": [
        "from spacy.lang.ar import Arabic\n",
        "ar = Arabic()\n",
        "tokenizer_data = ar.Defaults.create_tokenizer(ar)\n",
        "\n",
        "def tokenize_arabic_text(text):\n",
        "  text = text.lower()\n",
        "  data_array = [item for item in tokenizer_data(text)]\n",
        "  return data_array"
      ],
      "execution_count": null,
      "outputs": []
    },
    {
      "cell_type": "code",
      "metadata": {
        "colab": {
          "base_uri": "https://localhost:8080/"
        },
        "id": "_zNYerLq-H7T",
        "outputId": "7882627a-4d30-46cd-c544-a339cb4153c5"
      },
      "source": [
        "print(tokenize_arabic_text(dataset[1]))"
      ],
      "execution_count": null,
      "outputs": [
        {
          "output_type": "stream",
          "text": [
            "[ربما, كانت, أحد, أهم, التطورات, التي, قامت, بها, الرياضيات, العربية, التي, بدأت, في, هذا, الوقت, بعمل, الخوارزمي,  , وهي, بدايات, الجبر،ومن, المهم, فهم, كيف, كانت, هذه, الفكرة, الجديدة, مهمة, ،, فقد, كانت, خطوة, ثورية, بعيدا, عن, \n",
            ", المفهوم, اليوناني, للرياضيات, التي, هي, في, جوهرها,  , هندسة, ،, الجبركان, نظرية, موحدة, تتحيح, الأعداد, الكسرية, و, الأعداد, اللا, كسرية, ،, والمقادير, الهندسية, و, غيرها, ،, أن, تتعامل, على, أنها, أجسام, جبرية, ،, و, أعطت, الرياضيات, ككل, مسارا, جديدًا, للتطوربمفهوم, \n",
            " , أوسع, بكثير, من, الذي, كان, موجودًا, من, قبل, ،, وقدم, وسيلة, للتنمية, في, هذا, الموضوع, مستقبلا, .و, جانب, آخر, مهم, لإدخال, أفكار, الجبر, و, هو, أنه, سمح, بتطبيق, الرياضيات, على, نفسها, \n",
            ", بطريقة,  , لم, تحدث, من, قبل, .]\n"
          ],
          "name": "stdout"
        }
      ]
    },
    {
      "cell_type": "markdown",
      "metadata": {
        "id": "QUwzP8u9-ZFO"
      },
      "source": [
        "**Remove Arabic Stopwords**"
      ]
    },
    {
      "cell_type": "code",
      "metadata": {
        "colab": {
          "base_uri": "https://localhost:8080/"
        },
        "id": "snhTL7Y7-2qU",
        "outputId": "ca16e3c5-7ee9-44df-9f83-8342921253ac"
      },
      "source": [
        "pip install Arabic-Stopwords"
      ],
      "execution_count": null,
      "outputs": [
        {
          "output_type": "stream",
          "text": [
            "Collecting Arabic-Stopwords\n",
            "\u001b[?25l  Downloading https://files.pythonhosted.org/packages/7c/9e/40ee9b10f98b23b32bb7ca3f229ae78ae4379ebcb03cbb7b9e7399686ad8/Arabic_Stopwords-0.3-py3-none-any.whl (353kB)\n",
            "\u001b[K     |████████████████████████████████| 358kB 7.5MB/s \n",
            "\u001b[?25hCollecting pyarabic>=0.6.2\n",
            "\u001b[?25l  Downloading https://files.pythonhosted.org/packages/76/0e/716094532d87405011677fe8454eaac7305d4a2512aa4118c8a38b8aedfb/PyArabic-0.6.11-py3-none-any.whl (126kB)\n",
            "\u001b[K     |████████████████████████████████| 133kB 12.2MB/s \n",
            "\u001b[?25hInstalling collected packages: pyarabic, Arabic-Stopwords\n",
            "Successfully installed Arabic-Stopwords-0.3 pyarabic-0.6.11\n"
          ],
          "name": "stdout"
        }
      ]
    },
    {
      "cell_type": "code",
      "metadata": {
        "id": "5OPf81kL-twK"
      },
      "source": [
        "import arabicstopwords.arabicstopwords as stp\n",
        "dir(stp)\n",
        "stop_glob_words = stp.stopwords_list()\n",
        " \n",
        "def remove_arabic_stopwords(array):\n",
        "  my_clean_text = ' '.join([str(item) for item in array if item not in stop_glob_words])\n",
        "  return my_clean_text"
      ],
      "execution_count": null,
      "outputs": []
    },
    {
      "cell_type": "code",
      "metadata": {
        "colab": {
          "base_uri": "https://localhost:8080/",
          "height": 52
        },
        "id": "DM3-8lkG-9ls",
        "outputId": "666a3ad1-2d5e-4502-81dd-ffecd761e767"
      },
      "source": [
        "remove_arabic_stopwords(tokenize_arabic_text(dataset[1]))"
      ],
      "execution_count": null,
      "outputs": [
        {
          "output_type": "execute_result",
          "data": {
            "application/vnd.google.colaboratory.intrinsic+json": {
              "type": "string"
            },
            "text/plain": [
              "'ربما كانت أحد أهم التطورات التي قامت بها الرياضيات العربية التي بدأت في هذا الوقت بعمل الخوارزمي   وهي بدايات الجبر،ومن المهم فهم كيف كانت هذه الفكرة الجديدة مهمة ، فقد كانت خطوة ثورية بعيدا عن \\n المفهوم اليوناني للرياضيات التي هي في جوهرها   هندسة ، الجبركان نظرية موحدة تتحيح الأعداد الكسرية و الأعداد اللا كسرية ، والمقادير الهندسية و غيرها ، أن تتعامل على أنها أجسام جبرية ، و أعطت الرياضيات ككل مسارا جديدًا للتطوربمفهوم \\n  أوسع بكثير من الذي كان موجودًا من قبل ، وقدم وسيلة للتنمية في هذا الموضوع مستقبلا .و جانب آخر مهم لإدخال أفكار الجبر و هو أنه سمح بتطبيق الرياضيات على نفسها \\n بطريقة   لم تحدث من قبل .'"
            ]
          },
          "metadata": {
            "tags": []
          },
          "execution_count": 112
        }
      ]
    }
  ]
}