{
  "nbformat": 4,
  "nbformat_minor": 0,
  "metadata": {
    "colab": {
      "name": "nlp_preprocessing_data_using_nltk.ipynb",
      "provenance": [],
      "collapsed_sections": [],
      "include_colab_link": true
    },
    "kernelspec": {
      "name": "python3",
      "display_name": "Python 3"
    },
    "language_info": {
      "name": "python"
    }
  },
  "cells": [
    {
      "cell_type": "markdown",
      "metadata": {
        "id": "view-in-github",
        "colab_type": "text"
      },
      "source": [
        "<a href=\"https://colab.research.google.com/github/zahr-eddine/nlp_preprocessing_data/blob/main/nlp_preprocessing_data_using_nltk.ipynb\" target=\"_parent\"><img src=\"https://colab.research.google.com/assets/colab-badge.svg\" alt=\"Open In Colab\"/></a>"
      ]
    },
    {
      "cell_type": "markdown",
      "metadata": {
        "id": "CufR1LUFXmOv"
      },
      "source": [
        "## **Preprocessing data using NLTK** ##\n"
      ]
    },
    {
      "cell_type": "markdown",
      "metadata": {
        "id": "27W3nfoNLDQv"
      },
      "source": [
        "**Dataset**"
      ]
    },
    {
      "cell_type": "code",
      "metadata": {
        "colab": {
          "base_uri": "https://localhost:8080/"
        },
        "id": "iNir1TdDLCEk",
        "outputId": "70a00b8f-bdef-4f7d-e2e2-f6a20f9caa20"
      },
      "source": [
        "dataset = [        \n",
        "\"\"\"Perhaps one of the most significant advances made by Arabic mathematics began at this time with the work of al-Khwarizmi, namely\n",
        "the beginnings of algebra. It is important to understand just how significant this new idea was. It was a revolutionary move away from\n",
        "the Greek concept of mathematics which was essentially geometry. Algebra was a unifying theory which allowed rational\n",
        "numbers, irrational numbers, geometrical magnitudes, etc., to all be treated as \"algebraic objects\". It gave mathematics a whole new\n",
        "development path so much broader in concept to that which had existed before, and provided a vehicle for future development of the\n",
        "subject. Another important aspect of the introduction of algebraic ideas was that it allowed mathematics to be applied to itself in a\n",
        "way which had not happened before.\"\"\",\n",
        "\n",
        " \"\"\"ربما كانت أحد أهم التطورات التي قامت بها الرياضيات العربية التي بدأت في هذا الوقت بعمل الخوارزمي  وهي بدايات الجبر،ومن المهم فهم كيف كانت هذه الفكرة الجديدة مهمة، فقد كانت خطوة ثورية بعيدا عن\n",
        "المفهوم اليوناني للرياضيات التي هي في جوهرها  هندسة، الجبركان نظرية موحدة تتحيح الأعداد الكسرية و الأعداد اللا كسرية ، والمقادير الهندسية و غيرها ، أن تتعامل على أنها أجسام جبرية، و أعطت الرياضيات ككل مسارا جديدًا للتطوربمفهوم \n",
        " أوسع بكثير من الذي كان موجودًا من قبل ، وقدم وسيلة للتنمية في هذا الموضوع مستقبلا .و جانب آخر مهم لإدخال أفكار الجبر و هو أنه سمح بتطبيق الرياضيات على نفسها \n",
        "بطريقة  لم تحدث من قبل.\"\"\"\n",
        "]\n",
        "\n",
        "print(dataset)"
      ],
      "execution_count": null,
      "outputs": [
        {
          "output_type": "stream",
          "text": [
            "['Perhaps one of the most significant advances made by Arabic mathematics began at this time with the work of al-Khwarizmi, namely\\nthe beginnings of algebra. It is important to understand just how significant this new idea was. It was a revolutionary move away from\\nthe Greek concept of mathematics which was essentially geometry. Algebra was a unifying theory which allowed rational\\nnumbers, irrational numbers, geometrical magnitudes, etc., to all be treated as \"algebraic objects\". It gave mathematics a whole new\\ndevelopment path so much broader in concept to that which had existed before, and provided a vehicle for future development of the\\nsubject. Another important aspect of the introduction of algebraic ideas was that it allowed mathematics to be applied to itself in a\\nway which had not happened before.', 'ربما كانت أحد أهم التطورات التي قامت بها الرياضيات العربية التي بدأت في هذا الوقت بعمل الخوارزمي  وهي بدايات الجبر،ومن المهم فهم كيف كانت هذه الفكرة الجديدة مهمة، فقد كانت خطوة ثورية بعيدا عن\\nالمفهوم اليوناني للرياضيات التي هي في جوهرها  هندسة، الجبركان نظرية موحدة تتحيح الأعداد الكسرية و الأعداد اللا كسرية ، والمقادير الهندسية و غيرها ، أن تتعامل على أنها أجسام جبرية، و أعطت الرياضيات ككل مسارا جديدًا للتطوربمفهوم \\n أوسع بكثير من الذي كان موجودًا من قبل ، وقدم وسيلة للتنمية في هذا الموضوع مستقبلا .و جانب آخر مهم لإدخال أفكار الجبر و هو أنه سمح بتطبيق الرياضيات على نفسها \\nبطريقة  لم تحدث من قبل.']\n"
          ],
          "name": "stdout"
        }
      ]
    },
    {
      "cell_type": "code",
      "metadata": {
        "colab": {
          "base_uri": "https://localhost:8080/"
        },
        "id": "gaGolHirQ3mq",
        "outputId": "28022222-a010-4e49-d6c9-b9786b890d33"
      },
      "source": [
        "!pip install nltk"
      ],
      "execution_count": null,
      "outputs": [
        {
          "output_type": "stream",
          "text": [
            "Requirement already satisfied: nltk in /usr/local/lib/python3.7/dist-packages (3.2.5)\n",
            "Requirement already satisfied: six in /usr/local/lib/python3.7/dist-packages (from nltk) (1.15.0)\n"
          ],
          "name": "stdout"
        }
      ]
    },
    {
      "cell_type": "code",
      "metadata": {
        "id": "4DHjh4oWQ69e",
        "colab": {
          "base_uri": "https://localhost:8080/",
          "height": 35
        },
        "outputId": "09251867-6b73-46ff-9e6e-09c927bb929c"
      },
      "source": [
        "import string\n",
        "import nltk\n",
        "import re\n",
        "from nltk.corpus import stopwords\n",
        "nltk.download('stopwords')\n",
        "punctuations = '''`÷×؛<>_()*&^%][ـ،/:\"؟.,'{}~¦+|!”…“–ـ''' + string.punctuation  #all punctuations "
      ],
      "execution_count": null,
      "outputs": [
        {
          "output_type": "execute_result",
          "data": {
            "application/vnd.google.colaboratory.intrinsic+json": {
              "type": "string"
            },
            "text/plain": [
              "'`÷×؛<>_()*&^%][ـ،/:\"؟.,\\'{}~¦+|!”…“–ـ!\"#$%&\\'()*+,-./:;<=>?@[\\\\]^_`{|}~'"
            ]
          },
          "metadata": {
            "tags": []
          },
          "execution_count": 45
        }
      ]
    },
    {
      "cell_type": "markdown",
      "metadata": {
        "id": "PZjw32P9RlSO"
      },
      "source": [
        "**Remove punctuations**"
      ]
    },
    {
      "cell_type": "code",
      "metadata": {
        "colab": {
          "base_uri": "https://localhost:8080/"
        },
        "id": "8Az3tHZ0Sjn4",
        "outputId": "609e6fc6-c10a-46aa-ad0f-acb7d001d9be"
      },
      "source": [
        "def delete_punctuations(sentence):\n",
        "  sentence = sentence.lower()\n",
        "  my_clean_sentence = ''.join([item for item in sentence if item not in punctuations ])\n",
        "  return my_clean_sentence\n",
        "\n",
        "print(delete_punctuations(dataset[0]))"
      ],
      "execution_count": null,
      "outputs": [
        {
          "output_type": "stream",
          "text": [
            "perhaps one of the most significant advances made by arabic mathematics began at this time with the work of alkhwarizmi namely\n",
            "the beginnings of algebra it is important to understand just how significant this new idea was it was a revolutionary move away from\n",
            "the greek concept of mathematics which was essentially geometry algebra was a unifying theory which allowed rational\n",
            "numbers irrational numbers geometrical magnitudes etc to all be treated as algebraic objects it gave mathematics a whole new\n",
            "development path so much broader in concept to that which had existed before and provided a vehicle for future development of the\n",
            "subject another important aspect of the introduction of algebraic ideas was that it allowed mathematics to be applied to itself in a\n",
            "way which had not happened before\n"
          ],
          "name": "stdout"
        }
      ]
    },
    {
      "cell_type": "markdown",
      "metadata": {
        "id": "gBCAT9ivVPrj"
      },
      "source": [
        "**Tokenization**"
      ]
    },
    {
      "cell_type": "code",
      "metadata": {
        "colab": {
          "base_uri": "https://localhost:8080/"
        },
        "id": "8lUNaDefVN9G",
        "outputId": "64bfb4cd-807f-4514-bda6-bfb5799d0bf7"
      },
      "source": [
        "from nltk.tokenize import word_tokenize\n",
        "nltk.download('punkt')\n",
        "def sentence_tokenize(text):\n",
        "  return word_tokenize(text)\n",
        "  \n",
        "tokenized_list = sentence_tokenize(delete_punctuations(dataset[0]))"
      ],
      "execution_count": null,
      "outputs": [
        {
          "output_type": "stream",
          "text": [
            "[nltk_data] Downloading package punkt to /root/nltk_data...\n",
            "[nltk_data]   Package punkt is already up-to-date!\n"
          ],
          "name": "stdout"
        },
        {
          "output_type": "execute_result",
          "data": {
            "text/plain": [
              "True"
            ]
          },
          "metadata": {
            "tags": []
          },
          "execution_count": 35
        }
      ]
    },
    {
      "cell_type": "markdown",
      "metadata": {
        "id": "9DYcU6bU31Ow"
      },
      "source": [
        "**Remove English StopWords**"
      ]
    },
    {
      "cell_type": "code",
      "metadata": {
        "colab": {
          "base_uri": "https://localhost:8080/"
        },
        "id": "ODfM7CoB1NYZ",
        "outputId": "e40f6cca-8a60-4204-c20c-a8ef46179244"
      },
      "source": [
        "from nltk.corpus import stopwords\n",
        "nltk.download('stopwords')\n",
        "\n",
        "\n",
        "def delete_english_stopWord(sentence):\n",
        "  stop_words = [word for word in sentence if word not in stopwords.words('english')]\n",
        "  return stop_words\n",
        "\n",
        "clean_sentence = delete_english_stopWord(tokenized_list)"
      ],
      "execution_count": null,
      "outputs": [
        {
          "output_type": "stream",
          "text": [
            "[nltk_data] Downloading package stopwords to /root/nltk_data...\n",
            "[nltk_data]   Package stopwords is already up-to-date!\n"
          ],
          "name": "stdout"
        },
        {
          "output_type": "execute_result",
          "data": {
            "text/plain": [
              "True"
            ]
          },
          "metadata": {
            "tags": []
          },
          "execution_count": 37
        }
      ]
    },
    {
      "cell_type": "markdown",
      "metadata": {
        "id": "etWn6xQg3_KN"
      },
      "source": [
        "**Stemming**"
      ]
    },
    {
      "cell_type": "code",
      "metadata": {
        "id": "-yRWVlc_55T6",
        "colab": {
          "base_uri": "https://localhost:8080/"
        },
        "outputId": "4d729ce4-4144-4ed0-a3d3-728437cb767b"
      },
      "source": [
        "def stem_sentence(token_list):\n",
        "  p = nltk.PorterStemmer()\n",
        "  stems_word = [p.stem(item) for item in token_list]\n",
        "  return stems_word\n",
        "\n",
        "print(stem_sentence(clean_sentence))\n",
        "stemmed_sentence = stem_sentence(clean_sentence)"
      ],
      "execution_count": null,
      "outputs": [
        {
          "output_type": "stream",
          "text": [
            "['perhap', 'one', 'signific', 'advanc', 'made', 'arab', 'mathemat', 'began', 'time', 'work', 'alkhwarizmi', 'name', 'begin', 'algebra', 'import', 'understand', 'signific', 'new', 'idea', 'revolutionari', 'move', 'away', 'greek', 'concept', 'mathemat', 'essenti', 'geometri', 'algebra', 'unifi', 'theori', 'allow', 'ration', 'number', 'irrat', 'number', 'geometr', 'magnitud', 'etc', 'treat', 'algebra', 'object', 'gave', 'mathemat', 'whole', 'new', 'develop', 'path', 'much', 'broader', 'concept', 'exist', 'provid', 'vehicl', 'futur', 'develop', 'subject', 'anoth', 'import', 'aspect', 'introduct', 'algebra', 'idea', 'allow', 'mathemat', 'appli', 'way', 'happen']\n"
          ],
          "name": "stdout"
        }
      ]
    },
    {
      "cell_type": "markdown",
      "metadata": {
        "id": "3KK2gVHG7Thf"
      },
      "source": [
        "**Lemmetizing**"
      ]
    },
    {
      "cell_type": "code",
      "metadata": {
        "id": "KMAdbTRT7im9",
        "colab": {
          "base_uri": "https://localhost:8080/"
        },
        "outputId": "aaf2a271-e281-4358-be15-f036a79ad67f"
      },
      "source": [
        "nltk.download('wordnet')\n",
        "def lemmet(token_list):\n",
        "  wordn = nltk.WordNetLemmatizer()\n",
        "  l_list = [wordn.lemmatize(item) for item in token_list]\n",
        "  return l_list\n",
        "\n",
        "  \n",
        "l = lemmet(stemmed_sentence)\n",
        "print(l)"
      ],
      "execution_count": null,
      "outputs": [
        {
          "output_type": "stream",
          "text": [
            "[nltk_data] Downloading package wordnet to /root/nltk_data...\n",
            "[nltk_data]   Package wordnet is already up-to-date!\n",
            "['perhap', 'one', 'signific', 'advanc', 'made', 'arab', 'mathemat', 'began', 'time', 'work', 'alkhwarizmi', 'name', 'begin', 'algebra', 'import', 'understand', 'signific', 'new', 'idea', 'revolutionari', 'move', 'away', 'greek', 'concept', 'mathemat', 'essenti', 'geometri', 'algebra', 'unifi', 'theori', 'allow', 'ration', 'number', 'irrat', 'number', 'geometr', 'magnitud', 'etc', 'treat', 'algebra', 'object', 'gave', 'mathemat', 'whole', 'new', 'develop', 'path', 'much', 'broader', 'concept', 'exist', 'provid', 'vehicl', 'futur', 'develop', 'subject', 'anoth', 'import', 'aspect', 'introduct', 'algebra', 'idea', 'allow', 'mathemat', 'appli', 'way', 'happen']\n"
          ],
          "name": "stdout"
        }
      ]
    },
    {
      "cell_type": "code",
      "metadata": {
        "id": "Fa6HQjVg-EeI",
        "colab": {
          "base_uri": "https://localhost:8080/",
          "height": 69
        },
        "outputId": "94fc30ee-f4c1-4e14-d842-7aad0b13a02c"
      },
      "source": [
        "full_sentence = ' '.join([w for w in l])\n",
        "full_sentence"
      ],
      "execution_count": null,
      "outputs": [
        {
          "output_type": "execute_result",
          "data": {
            "application/vnd.google.colaboratory.intrinsic+json": {
              "type": "string"
            },
            "text/plain": [
              "'perhap one signific advanc made arab mathemat began time work alkhwarizmi name begin algebra import understand signific new idea revolutionari move away greek concept mathemat essenti geometri algebra unifi theori allow ration number irrat number geometr magnitud etc treat algebra object gave mathemat whole new develop path much broader concept exist provid vehicl futur develop subject anoth import aspect introduct algebra idea allow mathemat appli way happen'"
            ]
          },
          "metadata": {
            "tags": []
          },
          "execution_count": 41
        }
      ]
    },
    {
      "cell_type": "markdown",
      "metadata": {
        "id": "ozgnzvUphkPT"
      },
      "source": [
        "**Preprocessing Arabic using NLTK package**"
      ]
    },
    {
      "cell_type": "code",
      "metadata": {
        "colab": {
          "base_uri": "https://localhost:8080/"
        },
        "id": "DF3R5KGhZaCH",
        "outputId": "7cea5041-edb0-4e36-dd1b-b04cf44ed95f"
      },
      "source": [
        "def preprocess(text):\n",
        "    #remove punctuations\n",
        "    translator = str.maketrans('', '', punctuations)\n",
        "    text = text.translate(translator)\n",
        " \n",
        "    #remove longation\n",
        "    text = re.sub(\"[إأآا]\", \"ا\", text)\n",
        "    text = re.sub(\"ى\", \"ي\", text)\n",
        "    text = re.sub(\"ؤ\", \"ء\", text)\n",
        "    text = re.sub(\"ئ\", \"ء\", text)\n",
        "    text = re.sub(\"ة\", \"ه\", text)\n",
        "    text = re.sub(\"گ\", \"ك\", text)\n",
        "\n",
        " \n",
        "    return text\n",
        "  \n",
        "print(preprocess(dataset[1]))\n",
        "preprocessing_data = preprocess(dataset[1])"
      ],
      "execution_count": null,
      "outputs": [
        {
          "output_type": "stream",
          "text": [
            "ربما كانت احد اهم التطورات التي قامت بها الرياضيات العربيه التي بدات في هذا الوقت بعمل الخوارزمي  وهي بدايات الجبرومن المهم فهم كيف كانت هذه الفكره الجديده مهمه فقد كانت خطوه ثوريه بعيدا عن\n",
            "المفهوم اليوناني للرياضيات التي هي في جوهرها  هندسه الجبركان نظريه موحده تتحيح الاعداد الكسريه و الاعداد اللا كسريه  والمقادير الهندسيه و غيرها  ان تتعامل علي انها اجسام جبريه و اعطت الرياضيات ككل مسارا جديدًا للتطوربمفهوم \n",
            " اوسع بكثير من الذي كان موجودًا من قبل  وقدم وسيله للتنميه في هذا الموضوع مستقبلا و جانب اخر مهم لادخال افكار الجبر و هو انه سمح بتطبيق الرياضيات علي نفسها \n",
            "بطريقه  لم تحدث من قبل\n"
          ],
          "name": "stdout"
        }
      ]
    },
    {
      "cell_type": "code",
      "metadata": {
        "colab": {
          "base_uri": "https://localhost:8080/"
        },
        "id": "7m8svgvbapt7",
        "outputId": "68ad1c5c-27af-4513-e446-2d5c6a095bda"
      },
      "source": [
        "pip install Arabic-Stopwords"
      ],
      "execution_count": null,
      "outputs": [
        {
          "output_type": "stream",
          "text": [
            "Collecting Arabic-Stopwords\n",
            "\u001b[?25l  Downloading https://files.pythonhosted.org/packages/7c/9e/40ee9b10f98b23b32bb7ca3f229ae78ae4379ebcb03cbb7b9e7399686ad8/Arabic_Stopwords-0.3-py3-none-any.whl (353kB)\n",
            "\u001b[K     |████████████████████████████████| 358kB 8.1MB/s \n",
            "\u001b[?25hCollecting pyarabic>=0.6.2\n",
            "\u001b[?25l  Downloading https://files.pythonhosted.org/packages/7b/e2/46728ec2f6fe14970de5c782346609f0636262c0941228f363710903aaa1/PyArabic-0.6.10.tar.gz (108kB)\n",
            "\u001b[K     |████████████████████████████████| 112kB 45.8MB/s \n",
            "\u001b[?25hBuilding wheels for collected packages: pyarabic\n",
            "  Building wheel for pyarabic (setup.py) ... \u001b[?25l\u001b[?25hdone\n",
            "  Created wheel for pyarabic: filename=PyArabic-0.6.10-cp37-none-any.whl size=113324 sha256=b73ed0a25db64034f103e3bc74adb0f42ad124c81bdd3b7baa2f90c8480d6b1a\n",
            "  Stored in directory: /root/.cache/pip/wheels/10/b8/f5/b7c1a50e6efb83544844f165a9b134afe7292585465e29b61d\n",
            "Successfully built pyarabic\n",
            "Installing collected packages: pyarabic, Arabic-Stopwords\n",
            "Successfully installed Arabic-Stopwords-0.3 pyarabic-0.6.10\n"
          ],
          "name": "stdout"
        }
      ]
    },
    {
      "cell_type": "code",
      "metadata": {
        "colab": {
          "base_uri": "https://localhost:8080/"
        },
        "id": "15Z2PAA2axLn",
        "outputId": "3c601c83-fd17-43e5-993f-80266cfba347"
      },
      "source": [
        "import arabicstopwords.arabicstopwords as stp\n",
        "dir(stp)\n",
        "print(len(stp.stopwords_list()))\n",
        "stop_glob_words = stp.stopwords_list()"
      ],
      "execution_count": null,
      "outputs": [
        {
          "output_type": "stream",
          "text": [
            "13629\n"
          ],
          "name": "stdout"
        }
      ]
    },
    {
      "cell_type": "code",
      "metadata": {
        "colab": {
          "base_uri": "https://localhost:8080/"
        },
        "id": "fxKgCUzzbm6K",
        "outputId": "2e0dc3a0-014a-45b7-a714-86af2fe15a41"
      },
      "source": [
        "stopwords_list = stopwords.words('arabic')\n",
        "for item in stop_glob_words:\n",
        "  stopwords_list.append(item) if item not in stopwords_list else stopwords_list\n",
        "\n",
        "len(stopwords_list)"
      ],
      "execution_count": null,
      "outputs": [
        {
          "output_type": "execute_result",
          "data": {
            "text/plain": [
              "13636"
            ]
          },
          "metadata": {
            "tags": []
          },
          "execution_count": 79
        }
      ]
    },
    {
      "cell_type": "markdown",
      "metadata": {
        "id": "rbqdb22qj6ca"
      },
      "source": [
        "**Remove all arabic stopwords**"
      ]
    },
    {
      "cell_type": "code",
      "metadata": {
        "id": "M4NMGRrdfr3m"
      },
      "source": [
        "def delete_arabic_stopWord(text):\n",
        "  stop_words = [word for word in text if word not in stopwords_list]\n",
        "  return stop_words"
      ],
      "execution_count": null,
      "outputs": []
    },
    {
      "cell_type": "code",
      "metadata": {
        "colab": {
          "base_uri": "https://localhost:8080/"
        },
        "id": "Pqj-dBmaf0zc",
        "outputId": "90d68e57-4004-4f71-9d2d-aa9b68d21268"
      },
      "source": [
        "token_arabic = word_tokenize(preprocessing_data)\n",
        "text_without_arabic_stop_word = delete_arabic_stopWord(token_arabic)\n",
        "full_arabic_text = ' '.join([x for x in text_without_arabic_stop_word])\n",
        "print(full_arabic_text)"
      ],
      "execution_count": null,
      "outputs": [
        {
          "output_type": "stream",
          "text": [
            "ربما كانت احد اهم التطورات قامت الرياضيات العربيه بدات الوقت بعمل الخوارزمي بدايات الجبرومن المهم كانت الفكره الجديده مهمه كانت خطوه ثوريه بعيدا المفهوم اليوناني للرياضيات جوهرها هندسه الجبركان نظريه موحده تتحيح الاعداد الكسريه الاعداد اللا كسريه والمقادير الهندسيه ان تتعامل انها اجسام جبريه اعطت الرياضيات مسارا جديدًا للتطوربمفهوم اوسع بكثير موجودًا وقدم وسيله للتنميه الموضوع مستقبلا جانب اخر مهم لادخال افكار الجبر انه سمح بتطبيق الرياضيات بطريقه تحدث\n"
          ],
          "name": "stdout"
        }
      ]
    }
  ]
}